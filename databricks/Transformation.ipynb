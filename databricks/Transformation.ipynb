{
 "cells": [
  {
   "cell_type": "code",
   "execution_count": 0,
   "metadata": {
    "application/vnd.databricks.v1+cell": {
     "cellMetadata": {
      "byteLimit": 2048000,
      "rowLimit": 10000
     },
     "inputWidgets": {},
     "nuid": "c4d96b94-3356-4bfa-ab7f-10dfb9b6db51",
     "showTitle": false,
     "tableResultSettingsMap": {},
     "title": ""
    }
   },
   "outputs": [
    {
     "data": {
      "text/html": [
       "<style scoped>\n",
       "  .table-result-container {\n",
       "    max-height: 300px;\n",
       "    overflow: auto;\n",
       "  }\n",
       "  table, th, td {\n",
       "    border: 1px solid black;\n",
       "    border-collapse: collapse;\n",
       "  }\n",
       "  th, td {\n",
       "    padding: 5px;\n",
       "  }\n",
       "  th {\n",
       "    text-align: left;\n",
       "  }\n",
       "</style><div class='table-result-container'><table class='table-result'><thead style='background-color: white'><tr><th>id</th><th>title</th><th>score</th><th>num_comments</th><th>author</th><th>created_utc</th><th>over_18</th><th>spoiler</th><th>upvote_ratio</th></tr></thead><tbody><tr><td>1jnrpd7</td><td>Does your company use both Databricks & Snowflake? How does the architecture look like?</td><td>67</td><td>35</td><td>NefariousnessSea5101</td><td>1743383537.0</td><td>False</td><td>False</td><td>0.95</td></tr><tr><td>1jnuhdm</td><td>Now, I know why am I struggling...</td><td>42</td><td>10</td><td>noSugar-lessSalt</td><td>1743392858.0</td><td>False</td><td>False</td><td>0.88</td></tr><tr><td>1jo8l7i</td><td>Happy Monday</td><td>87</td><td>7</td><td>Vautlo</td><td>1743441585.0</td><td>False</td><td>False</td><td>0.95</td></tr><tr><td>1jo0001</td><td>Prefect - too expensive?</td><td>41</td><td>45</td><td>thsde</td><td>1743416768.0</td><td>False</td><td>False</td><td>0.96</td></tr><tr><td>1jnktzw</td><td>Passed DP-203 -- some thoughts on its retiring</td><td>31</td><td>3</td><td>EducatedEarthian-99</td><td>1743364094.0</td><td>False</td><td>False</td><td>0.84</td></tr><tr><td>1jo7tps</td><td>what's your opinion?</td><td>9</td><td>14</td><td>BigCountry1227</td><td>1743439735.0</td><td>False</td><td>False</td><td>0.68</td></tr><tr><td>1jo564b</td><td>Is using Snowflake for near real time or hourly events an overkill ?</td><td>11</td><td>12</td><td>finerius</td><td>1743433049.0</td><td>False</td><td>False</td><td>0.92</td></tr><tr><td>1jnzyop</td><td>AWS Data Engineering from Azure</td><td>12</td><td>9</td><td>nifty60</td><td>1743416607.0</td><td>False</td><td>False</td><td>0.88</td></tr><tr><td>1jo8vlk</td><td>DE roadmap</td><td>8</td><td>2</td><td>arvindspeaks</td><td>1743442266.0</td><td>False</td><td>False</td><td>0.64</td></tr><tr><td>1jo9b0k</td><td>Operating systems and hardware available for employees in your company</td><td>5</td><td>6</td><td>VeryHardToFindAName</td><td>1743443313.0</td><td>False</td><td>False</td><td>1.0</td></tr><tr><td>1jo2vxq</td><td>Date warehouse essentials guide</td><td>6</td><td>1</td><td>Super_Act_5816</td><td>1743426817.0</td><td>False</td><td>False</td><td>0.8</td></tr><tr><td>1jnlm9u</td><td>As a data analytics/data science professional, how much data engineering am I supposed to know? Any advice is greatly appreciated</td><td>4</td><td>7</td><td>CreditArtistic1932</td><td>1743366104.0</td><td>False</td><td>False</td><td>0.64</td></tr><tr><td>1jo4hld</td><td>How do I manage dev/test/prod when using Unity Catalog for Medallion Architecture with dbt?</td><td>3</td><td>2</td><td>jfftilton</td><td>1743431264.0</td><td>False</td><td>False</td><td>0.81</td></tr><tr><td>1jo8u27</td><td>Asking for different tools for SQL Server + SSIS project.</td><td>3</td><td>9</td><td>Brilliant_Breath9703</td><td>1743442170.0</td><td>False</td><td>False</td><td>1.0</td></tr><tr><td>1jnymqg</td><td>Need Feedback on data sharing module</td><td>2</td><td>5</td><td>pirana04</td><td>1743410598.0</td><td>False</td><td>False</td><td>0.75</td></tr><tr><td>1jnlsu5</td><td>Example for complex data pipeline</td><td>2</td><td>2</td><td>EliyahuRed</td><td>1743366576.0</td><td>False</td><td>False</td><td>0.67</td></tr><tr><td>1jo9ir2</td><td>~33% faster Microsoft Fabric with e6data– Feedback Requested</td><td>1</td><td>0</td><td>e6data</td><td>1743443838.0</td><td>False</td><td>False</td><td>0.66</td></tr><tr><td>1jo89r8</td><td>Ways to quickly get total rows?</td><td>0</td><td>0</td><td>Old_Tourist_3774</td><td>1743440814.0</td><td>False</td><td>False</td><td>0.5</td></tr><tr><td>1jo2s2c</td><td>Cloud Pandit Azure Data Engineering course feedback or can we take !!</td><td>0</td><td>3</td><td>Pi_Pisces</td><td>1743426498.0</td><td>False</td><td>False</td><td>0.5</td></tr><tr><td>1jnt6ir</td><td>Question about preprocessing two time-series datasets from different measurement devices</td><td>1</td><td>1</td><td>UsedExcitement5306</td><td>1743388398.0</td><td>False</td><td>False</td><td>0.57</td></tr><tr><td>1jnqdug</td><td>First Major DE Project</td><td>1</td><td>2</td><td>scuffed12s</td><td>1743379357.0</td><td>False</td><td>False</td><td>0.57</td></tr><tr><td>1jnq405</td><td>Unstructured to Structured</td><td>1</td><td>1</td><td>Fantastic-Cup-990</td><td>1743378531.0</td><td>False</td><td>False</td><td>0.53</td></tr><tr><td>1jnrb6y</td><td>Data Camp Data engineering certification help</td><td>0</td><td>3</td><td>Bodhisattva-Wannabe</td><td>1743382277.0</td><td>False</td><td>False</td><td>0.43</td></tr><tr><td>1jo4n51</td><td>Seeking Advice from DE: Taking a Career Break to Work & Travel in Australia</td><td>0</td><td>2</td><td>chongsurfer</td><td>1743431672.0</td><td>False</td><td>False</td><td>0.4</td></tr><tr><td>1jo9iy9</td><td>🚀 𝐋𝐢𝐠𝐡𝐭𝐧𝐢𝐧𝐠 𝐂𝐨𝐧𝐭𝐚𝐢𝐧𝐞𝐫𝐬: 𝐒𝐮𝐩𝐞𝐫𝐜𝐡𝐚𝐫𝐠𝐞𝐝! 🌩️</td><td>0</td><td>2</td><td>DarkArrowUnchained</td><td>1743443853.0</td><td>False</td><td>False</td><td>0.33</td></tr><tr><td>1jnmrm5</td><td>Data Stack</td><td>0</td><td>2</td><td>jb_nb</td><td>1743369088.0</td><td>False</td><td>False</td><td>0.25</td></tr></tbody></table></div>"
      ]
     },
     "metadata": {
      "application/vnd.databricks.v1+output": {
       "addedWidgets": {},
       "aggData": [],
       "aggError": "",
       "aggOverflow": false,
       "aggSchema": [],
       "aggSeriesLimitReached": false,
       "aggType": "",
       "arguments": {},
       "columnCustomDisplayInfos": {},
       "data": [
        [
         "1jnrpd7",
         "Does your company use both Databricks & Snowflake? How does the architecture look like?",
         "67",
         "35",
         "NefariousnessSea5101",
         "1743383537.0",
         "False",
         "False",
         "0.95"
        ],
        [
         "1jnuhdm",
         "Now, I know why am I struggling...",
         "42",
         "10",
         "noSugar-lessSalt",
         "1743392858.0",
         "False",
         "False",
         "0.88"
        ],
        [
         "1jo8l7i",
         "Happy Monday",
         "87",
         "7",
         "Vautlo",
         "1743441585.0",
         "False",
         "False",
         "0.95"
        ],
        [
         "1jo0001",
         "Prefect - too expensive?",
         "41",
         "45",
         "thsde",
         "1743416768.0",
         "False",
         "False",
         "0.96"
        ],
        [
         "1jnktzw",
         "Passed DP-203 -- some thoughts on its retiring",
         "31",
         "3",
         "EducatedEarthian-99",
         "1743364094.0",
         "False",
         "False",
         "0.84"
        ],
        [
         "1jo7tps",
         "what's your opinion?",
         "9",
         "14",
         "BigCountry1227",
         "1743439735.0",
         "False",
         "False",
         "0.68"
        ],
        [
         "1jo564b",
         "Is using Snowflake for near real time or hourly events an overkill ?",
         "11",
         "12",
         "finerius",
         "1743433049.0",
         "False",
         "False",
         "0.92"
        ],
        [
         "1jnzyop",
         "AWS Data Engineering from Azure",
         "12",
         "9",
         "nifty60",
         "1743416607.0",
         "False",
         "False",
         "0.88"
        ],
        [
         "1jo8vlk",
         "DE roadmap",
         "8",
         "2",
         "arvindspeaks",
         "1743442266.0",
         "False",
         "False",
         "0.64"
        ],
        [
         "1jo9b0k",
         "Operating systems and hardware available for employees in your company",
         "5",
         "6",
         "VeryHardToFindAName",
         "1743443313.0",
         "False",
         "False",
         "1.0"
        ],
        [
         "1jo2vxq",
         "Date warehouse essentials guide",
         "6",
         "1",
         "Super_Act_5816",
         "1743426817.0",
         "False",
         "False",
         "0.8"
        ],
        [
         "1jnlm9u",
         "As a data analytics/data science professional, how much data engineering am I supposed to know? Any advice is greatly appreciated",
         "4",
         "7",
         "CreditArtistic1932",
         "1743366104.0",
         "False",
         "False",
         "0.64"
        ],
        [
         "1jo4hld",
         "How do I manage dev/test/prod when using Unity Catalog for Medallion Architecture with dbt?",
         "3",
         "2",
         "jfftilton",
         "1743431264.0",
         "False",
         "False",
         "0.81"
        ],
        [
         "1jo8u27",
         "Asking for different tools for SQL Server + SSIS project.",
         "3",
         "9",
         "Brilliant_Breath9703",
         "1743442170.0",
         "False",
         "False",
         "1.0"
        ],
        [
         "1jnymqg",
         "Need Feedback on data sharing module",
         "2",
         "5",
         "pirana04",
         "1743410598.0",
         "False",
         "False",
         "0.75"
        ],
        [
         "1jnlsu5",
         "Example for complex data pipeline",
         "2",
         "2",
         "EliyahuRed",
         "1743366576.0",
         "False",
         "False",
         "0.67"
        ],
        [
         "1jo9ir2",
         "~33% faster Microsoft Fabric with e6data– Feedback Requested",
         "1",
         "0",
         "e6data",
         "1743443838.0",
         "False",
         "False",
         "0.66"
        ],
        [
         "1jo89r8",
         "Ways to quickly get total rows?",
         "0",
         "0",
         "Old_Tourist_3774",
         "1743440814.0",
         "False",
         "False",
         "0.5"
        ],
        [
         "1jo2s2c",
         "Cloud Pandit Azure Data Engineering course feedback or can we take !!",
         "0",
         "3",
         "Pi_Pisces",
         "1743426498.0",
         "False",
         "False",
         "0.5"
        ],
        [
         "1jnt6ir",
         "Question about preprocessing two time-series datasets from different measurement devices",
         "1",
         "1",
         "UsedExcitement5306",
         "1743388398.0",
         "False",
         "False",
         "0.57"
        ],
        [
         "1jnqdug",
         "First Major DE Project",
         "1",
         "2",
         "scuffed12s",
         "1743379357.0",
         "False",
         "False",
         "0.57"
        ],
        [
         "1jnq405",
         "Unstructured to Structured",
         "1",
         "1",
         "Fantastic-Cup-990",
         "1743378531.0",
         "False",
         "False",
         "0.53"
        ],
        [
         "1jnrb6y",
         "Data Camp Data engineering certification help",
         "0",
         "3",
         "Bodhisattva-Wannabe",
         "1743382277.0",
         "False",
         "False",
         "0.43"
        ],
        [
         "1jo4n51",
         "Seeking Advice from DE: Taking a Career Break to Work & Travel in Australia",
         "0",
         "2",
         "chongsurfer",
         "1743431672.0",
         "False",
         "False",
         "0.4"
        ],
        [
         "1jo9iy9",
         "🚀 𝐋𝐢𝐠𝐡𝐭𝐧𝐢𝐧𝐠 𝐂𝐨𝐧𝐭𝐚𝐢𝐧𝐞𝐫𝐬: 𝐒𝐮𝐩𝐞𝐫𝐜𝐡𝐚𝐫𝐠𝐞𝐝! 🌩️",
         "0",
         "2",
         "DarkArrowUnchained",
         "1743443853.0",
         "False",
         "False",
         "0.33"
        ],
        [
         "1jnmrm5",
         "Data Stack",
         "0",
         "2",
         "jb_nb",
         "1743369088.0",
         "False",
         "False",
         "0.25"
        ]
       ],
       "datasetInfos": [],
       "dbfsResultPath": null,
       "isJsonSchema": true,
       "metadata": {},
       "overflow": false,
       "plotOptions": {
        "customPlotOptions": {},
        "displayType": "table",
        "pivotAggregation": null,
        "pivotColumns": null,
        "xColumns": null,
        "yColumns": null
       },
       "removedWidgets": [],
       "schema": [
        {
         "metadata": "{}",
         "name": "id",
         "type": "\"string\""
        },
        {
         "metadata": "{}",
         "name": "title",
         "type": "\"string\""
        },
        {
         "metadata": "{}",
         "name": "score",
         "type": "\"string\""
        },
        {
         "metadata": "{}",
         "name": "num_comments",
         "type": "\"string\""
        },
        {
         "metadata": "{}",
         "name": "author",
         "type": "\"string\""
        },
        {
         "metadata": "{}",
         "name": "created_utc",
         "type": "\"string\""
        },
        {
         "metadata": "{}",
         "name": "over_18",
         "type": "\"string\""
        },
        {
         "metadata": "{}",
         "name": "spoiler",
         "type": "\"string\""
        },
        {
         "metadata": "{}",
         "name": "upvote_ratio",
         "type": "\"string\""
        }
       ],
       "type": "table"
      }
     },
     "output_type": "display_data"
    }
   ],
   "source": [
    "# Set the storage account key\n",
    "spark.conf.set(\n",
    "    \"fs.azure.account.key.kevinredditdata.blob.core.windows.net\",\n",
    "    AZURE_ACCESS_KEY\n",
    ")\n",
    "\n",
    "# Read the CSV file from Azure Blob Storage\n",
    "input_path = \"wasbs://reddit-data@kevinredditdata.blob.core.windows.net/reddit_20250331.csv\"\n",
    "df = spark.read.format(\"csv\").option(\"header\", \"true\").load(input_path)\n",
    "display(df)"
   ]
  },
  {
   "cell_type": "code",
   "execution_count": 0,
   "metadata": {
    "application/vnd.databricks.v1+cell": {
     "cellMetadata": {
      "byteLimit": 2048000,
      "rowLimit": 10000
     },
     "inputWidgets": {},
     "nuid": "2a14f443-6ab9-4c01-8c78-4cfd7ef32465",
     "showTitle": false,
     "tableResultSettingsMap": {},
     "title": ""
    }
   },
   "outputs": [],
   "source": [
    "from pyspark.sql.functions import from_unixtime, to_date\n",
    "\n",
    "new_df = df.withColumn('created_utc', to_date(from_unixtime(df['created_utc'])))"
   ]
  },
  {
   "cell_type": "code",
   "execution_count": 0,
   "metadata": {
    "application/vnd.databricks.v1+cell": {
     "cellMetadata": {
      "byteLimit": 2048000,
      "rowLimit": 10000
     },
     "inputWidgets": {},
     "nuid": "504d10d7-8b2a-467e-acd1-21f865de3118",
     "showTitle": false,
     "tableResultSettingsMap": {},
     "title": ""
    }
   },
   "outputs": [
    {
     "data": {
      "text/html": [
       "<style scoped>\n",
       "  .table-result-container {\n",
       "    max-height: 300px;\n",
       "    overflow: auto;\n",
       "  }\n",
       "  table, th, td {\n",
       "    border: 1px solid black;\n",
       "    border-collapse: collapse;\n",
       "  }\n",
       "  th, td {\n",
       "    padding: 5px;\n",
       "  }\n",
       "  th {\n",
       "    text-align: left;\n",
       "  }\n",
       "</style><div class='table-result-container'><table class='table-result'><thead style='background-color: white'><tr><th>id</th><th>title</th><th>score</th><th>num_comments</th><th>author</th><th>created_utc</th><th>over_18</th><th>spoiler</th><th>upvote_ratio</th></tr></thead><tbody><tr><td>1jnrpd7</td><td>Does your company use both Databricks & Snowflake? How does the architecture look like?</td><td>67</td><td>35</td><td>NefariousnessSea5101</td><td>2025-03-31</td><td>false</td><td>false</td><td>0.95</td></tr><tr><td>1jnuhdm</td><td>Now, I know why am I struggling...</td><td>42</td><td>10</td><td>noSugar-lessSalt</td><td>2025-03-31</td><td>false</td><td>false</td><td>0.88</td></tr><tr><td>1jo8l7i</td><td>Happy Monday</td><td>87</td><td>7</td><td>Vautlo</td><td>2025-03-31</td><td>false</td><td>false</td><td>0.95</td></tr><tr><td>1jo0001</td><td>Prefect - too expensive?</td><td>41</td><td>45</td><td>thsde</td><td>2025-03-31</td><td>false</td><td>false</td><td>0.96</td></tr><tr><td>1jnktzw</td><td>Passed DP-203 -- some thoughts on its retiring</td><td>31</td><td>3</td><td>EducatedEarthian-99</td><td>2025-03-30</td><td>false</td><td>false</td><td>0.84</td></tr><tr><td>1jo7tps</td><td>what's your opinion?</td><td>9</td><td>14</td><td>BigCountry1227</td><td>2025-03-31</td><td>false</td><td>false</td><td>0.68</td></tr><tr><td>1jo564b</td><td>Is using Snowflake for near real time or hourly events an overkill ?</td><td>11</td><td>12</td><td>finerius</td><td>2025-03-31</td><td>false</td><td>false</td><td>0.92</td></tr><tr><td>1jnzyop</td><td>AWS Data Engineering from Azure</td><td>12</td><td>9</td><td>nifty60</td><td>2025-03-31</td><td>false</td><td>false</td><td>0.88</td></tr><tr><td>1jo8vlk</td><td>DE roadmap</td><td>8</td><td>2</td><td>arvindspeaks</td><td>2025-03-31</td><td>false</td><td>false</td><td>0.64</td></tr><tr><td>1jo9b0k</td><td>Operating systems and hardware available for employees in your company</td><td>5</td><td>6</td><td>VeryHardToFindAName</td><td>2025-03-31</td><td>false</td><td>false</td><td>1.0</td></tr><tr><td>1jo2vxq</td><td>Date warehouse essentials guide</td><td>6</td><td>1</td><td>Super_Act_5816</td><td>2025-03-31</td><td>false</td><td>false</td><td>0.8</td></tr><tr><td>1jnlm9u</td><td>As a data analytics/data science professional, how much data engineering am I supposed to know? Any advice is greatly appreciated</td><td>4</td><td>7</td><td>CreditArtistic1932</td><td>2025-03-30</td><td>false</td><td>false</td><td>0.64</td></tr><tr><td>1jo4hld</td><td>How do I manage dev/test/prod when using Unity Catalog for Medallion Architecture with dbt?</td><td>3</td><td>2</td><td>jfftilton</td><td>2025-03-31</td><td>false</td><td>false</td><td>0.81</td></tr><tr><td>1jo8u27</td><td>Asking for different tools for SQL Server + SSIS project.</td><td>3</td><td>9</td><td>Brilliant_Breath9703</td><td>2025-03-31</td><td>false</td><td>false</td><td>1.0</td></tr><tr><td>1jnymqg</td><td>Need Feedback on data sharing module</td><td>2</td><td>5</td><td>pirana04</td><td>2025-03-31</td><td>false</td><td>false</td><td>0.75</td></tr><tr><td>1jnlsu5</td><td>Example for complex data pipeline</td><td>2</td><td>2</td><td>EliyahuRed</td><td>2025-03-30</td><td>false</td><td>false</td><td>0.67</td></tr><tr><td>1jo9ir2</td><td>~33% faster Microsoft Fabric with e6data– Feedback Requested</td><td>1</td><td>0</td><td>e6data</td><td>2025-03-31</td><td>false</td><td>false</td><td>0.66</td></tr><tr><td>1jo89r8</td><td>Ways to quickly get total rows?</td><td>0</td><td>0</td><td>Old_Tourist_3774</td><td>2025-03-31</td><td>false</td><td>false</td><td>0.5</td></tr><tr><td>1jo2s2c</td><td>Cloud Pandit Azure Data Engineering course feedback or can we take !!</td><td>0</td><td>3</td><td>Pi_Pisces</td><td>2025-03-31</td><td>false</td><td>false</td><td>0.5</td></tr><tr><td>1jnt6ir</td><td>Question about preprocessing two time-series datasets from different measurement devices</td><td>1</td><td>1</td><td>UsedExcitement5306</td><td>2025-03-31</td><td>false</td><td>false</td><td>0.57</td></tr><tr><td>1jnqdug</td><td>First Major DE Project</td><td>1</td><td>2</td><td>scuffed12s</td><td>2025-03-31</td><td>false</td><td>false</td><td>0.57</td></tr><tr><td>1jnq405</td><td>Unstructured to Structured</td><td>1</td><td>1</td><td>Fantastic-Cup-990</td><td>2025-03-30</td><td>false</td><td>false</td><td>0.53</td></tr><tr><td>1jnrb6y</td><td>Data Camp Data engineering certification help</td><td>0</td><td>3</td><td>Bodhisattva-Wannabe</td><td>2025-03-31</td><td>false</td><td>false</td><td>0.43</td></tr><tr><td>1jo4n51</td><td>Seeking Advice from DE: Taking a Career Break to Work & Travel in Australia</td><td>0</td><td>2</td><td>chongsurfer</td><td>2025-03-31</td><td>false</td><td>false</td><td>0.4</td></tr><tr><td>1jo9iy9</td><td>🚀 𝐋𝐢𝐠𝐡𝐭𝐧𝐢𝐧𝐠 𝐂𝐨𝐧𝐭𝐚𝐢𝐧𝐞𝐫𝐬: 𝐒𝐮𝐩𝐞𝐫𝐜𝐡𝐚𝐫𝐠𝐞𝐝! 🌩️</td><td>0</td><td>2</td><td>DarkArrowUnchained</td><td>2025-03-31</td><td>false</td><td>false</td><td>0.33</td></tr><tr><td>1jnmrm5</td><td>Data Stack</td><td>0</td><td>2</td><td>jb_nb</td><td>2025-03-30</td><td>false</td><td>false</td><td>0.25</td></tr></tbody></table></div>"
      ]
     },
     "metadata": {
      "application/vnd.databricks.v1+output": {
       "addedWidgets": {},
       "aggData": [],
       "aggError": "",
       "aggOverflow": false,
       "aggSchema": [],
       "aggSeriesLimitReached": false,
       "aggType": "",
       "arguments": {},
       "columnCustomDisplayInfos": {},
       "data": [
        [
         "1jnrpd7",
         "Does your company use both Databricks & Snowflake? How does the architecture look like?",
         67,
         35,
         "NefariousnessSea5101",
         "2025-03-31",
         false,
         false,
         0.95
        ],
        [
         "1jnuhdm",
         "Now, I know why am I struggling...",
         42,
         10,
         "noSugar-lessSalt",
         "2025-03-31",
         false,
         false,
         0.88
        ],
        [
         "1jo8l7i",
         "Happy Monday",
         87,
         7,
         "Vautlo",
         "2025-03-31",
         false,
         false,
         0.95
        ],
        [
         "1jo0001",
         "Prefect - too expensive?",
         41,
         45,
         "thsde",
         "2025-03-31",
         false,
         false,
         0.96
        ],
        [
         "1jnktzw",
         "Passed DP-203 -- some thoughts on its retiring",
         31,
         3,
         "EducatedEarthian-99",
         "2025-03-30",
         false,
         false,
         0.84
        ],
        [
         "1jo7tps",
         "what's your opinion?",
         9,
         14,
         "BigCountry1227",
         "2025-03-31",
         false,
         false,
         0.68
        ],
        [
         "1jo564b",
         "Is using Snowflake for near real time or hourly events an overkill ?",
         11,
         12,
         "finerius",
         "2025-03-31",
         false,
         false,
         0.92
        ],
        [
         "1jnzyop",
         "AWS Data Engineering from Azure",
         12,
         9,
         "nifty60",
         "2025-03-31",
         false,
         false,
         0.88
        ],
        [
         "1jo8vlk",
         "DE roadmap",
         8,
         2,
         "arvindspeaks",
         "2025-03-31",
         false,
         false,
         0.64
        ],
        [
         "1jo9b0k",
         "Operating systems and hardware available for employees in your company",
         5,
         6,
         "VeryHardToFindAName",
         "2025-03-31",
         false,
         false,
         1
        ],
        [
         "1jo2vxq",
         "Date warehouse essentials guide",
         6,
         1,
         "Super_Act_5816",
         "2025-03-31",
         false,
         false,
         0.8
        ],
        [
         "1jnlm9u",
         "As a data analytics/data science professional, how much data engineering am I supposed to know? Any advice is greatly appreciated",
         4,
         7,
         "CreditArtistic1932",
         "2025-03-30",
         false,
         false,
         0.64
        ],
        [
         "1jo4hld",
         "How do I manage dev/test/prod when using Unity Catalog for Medallion Architecture with dbt?",
         3,
         2,
         "jfftilton",
         "2025-03-31",
         false,
         false,
         0.81
        ],
        [
         "1jo8u27",
         "Asking for different tools for SQL Server + SSIS project.",
         3,
         9,
         "Brilliant_Breath9703",
         "2025-03-31",
         false,
         false,
         1
        ],
        [
         "1jnymqg",
         "Need Feedback on data sharing module",
         2,
         5,
         "pirana04",
         "2025-03-31",
         false,
         false,
         0.75
        ],
        [
         "1jnlsu5",
         "Example for complex data pipeline",
         2,
         2,
         "EliyahuRed",
         "2025-03-30",
         false,
         false,
         0.67
        ],
        [
         "1jo9ir2",
         "~33% faster Microsoft Fabric with e6data– Feedback Requested",
         1,
         0,
         "e6data",
         "2025-03-31",
         false,
         false,
         0.66
        ],
        [
         "1jo89r8",
         "Ways to quickly get total rows?",
         0,
         0,
         "Old_Tourist_3774",
         "2025-03-31",
         false,
         false,
         0.5
        ],
        [
         "1jo2s2c",
         "Cloud Pandit Azure Data Engineering course feedback or can we take !!",
         0,
         3,
         "Pi_Pisces",
         "2025-03-31",
         false,
         false,
         0.5
        ],
        [
         "1jnt6ir",
         "Question about preprocessing two time-series datasets from different measurement devices",
         1,
         1,
         "UsedExcitement5306",
         "2025-03-31",
         false,
         false,
         0.57
        ],
        [
         "1jnqdug",
         "First Major DE Project",
         1,
         2,
         "scuffed12s",
         "2025-03-31",
         false,
         false,
         0.57
        ],
        [
         "1jnq405",
         "Unstructured to Structured",
         1,
         1,
         "Fantastic-Cup-990",
         "2025-03-30",
         false,
         false,
         0.53
        ],
        [
         "1jnrb6y",
         "Data Camp Data engineering certification help",
         0,
         3,
         "Bodhisattva-Wannabe",
         "2025-03-31",
         false,
         false,
         0.43
        ],
        [
         "1jo4n51",
         "Seeking Advice from DE: Taking a Career Break to Work & Travel in Australia",
         0,
         2,
         "chongsurfer",
         "2025-03-31",
         false,
         false,
         0.4
        ],
        [
         "1jo9iy9",
         "🚀 𝐋𝐢𝐠𝐡𝐭𝐧𝐢𝐧𝐠 𝐂𝐨𝐧𝐭𝐚𝐢𝐧𝐞𝐫𝐬: 𝐒𝐮𝐩𝐞𝐫𝐜𝐡𝐚𝐫𝐠𝐞𝐝! 🌩️",
         0,
         2,
         "DarkArrowUnchained",
         "2025-03-31",
         false,
         false,
         0.33
        ],
        [
         "1jnmrm5",
         "Data Stack",
         0,
         2,
         "jb_nb",
         "2025-03-30",
         false,
         false,
         0.25
        ]
       ],
       "datasetInfos": [],
       "dbfsResultPath": null,
       "isJsonSchema": true,
       "metadata": {},
       "overflow": false,
       "plotOptions": {
        "customPlotOptions": {},
        "displayType": "table",
        "pivotAggregation": null,
        "pivotColumns": null,
        "xColumns": null,
        "yColumns": null
       },
       "removedWidgets": [],
       "schema": [
        {
         "metadata": "{}",
         "name": "id",
         "type": "\"string\""
        },
        {
         "metadata": "{}",
         "name": "title",
         "type": "\"string\""
        },
        {
         "metadata": "{}",
         "name": "score",
         "type": "\"integer\""
        },
        {
         "metadata": "{}",
         "name": "num_comments",
         "type": "\"integer\""
        },
        {
         "metadata": "{}",
         "name": "author",
         "type": "\"string\""
        },
        {
         "metadata": "{}",
         "name": "created_utc",
         "type": "\"date\""
        },
        {
         "metadata": "{}",
         "name": "over_18",
         "type": "\"boolean\""
        },
        {
         "metadata": "{}",
         "name": "spoiler",
         "type": "\"boolean\""
        },
        {
         "metadata": "{}",
         "name": "upvote_ratio",
         "type": "\"double\""
        }
       ],
       "type": "table"
      }
     },
     "output_type": "display_data"
    }
   ],
   "source": [
    "# Change the data type of the columns\n",
    "final_df = new_df.withColumn(\"score\", df[\"score\"].cast('integer')) \\\n",
    "       .withColumn(\"num_comments\", df[\"num_comments\"].cast('integer')) \\\n",
    "       .withColumn(\"over_18\", df[\"over_18\"].cast('boolean')) \\\n",
    "       .withColumn(\"spoiler\", df[\"spoiler\"].cast('boolean')) \\\n",
    "       .withColumn(\"upvote_ratio\", df[\"upvote_ratio\"].cast('double'))\n",
    "\n",
    "display(final_df)"
   ]
  },
  {
   "cell_type": "code",
   "execution_count": 0,
   "metadata": {
    "application/vnd.databricks.v1+cell": {
     "cellMetadata": {
      "byteLimit": 2048000,
      "rowLimit": 10000
     },
     "inputWidgets": {},
     "nuid": "a9edbb3a-370b-434e-aa4c-4dea33c9c5bb",
     "showTitle": false,
     "tableResultSettingsMap": {},
     "title": ""
    }
   },
   "outputs": [],
   "source": [
    "output_path = \"wasbs://transformed@kevinredditdata.blob.core.windows.net/\"\n",
    "\n",
    "final_df.write.format(\"delta\").mode(\"overwrite\").save(output_path)"
   ]
  }
 ],
 "metadata": {
  "application/vnd.databricks.v1+notebook": {
   "computePreferences": null,
   "dashboards": [],
   "environmentMetadata": {
    "base_environment": "",
    "environment_version": "2"
   },
   "inputWidgetPreferences": null,
   "language": "python",
   "notebookMetadata": {
    "pythonIndentUnit": 4
   },
   "notebookName": "Transformation",
   "widgets": {}
  },
  "language_info": {
   "name": "python"
  }
 },
 "nbformat": 4,
 "nbformat_minor": 0
}
